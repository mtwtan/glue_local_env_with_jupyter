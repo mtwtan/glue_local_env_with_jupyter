{
 "cells": [
  {
   "cell_type": "code",
   "execution_count": 5,
   "metadata": {},
   "outputs": [
    {
     "name": "stdout",
     "output_type": "stream",
     "text": [
      "root\n",
      " |-- 813415774\t20180101\t201801\t2018\t2018.0027\t\t\t\t\t\t\t\t\t\t\tAGR\tFARMER\t\t\t\t\t\tAGR\t\t\t1\t036\t036\t03\t1\t4.0\t45\t6\t45\t-1.07036692050604\t0\t\t\t\t\t\t\t4\tCalgary: string (nullable = true)\n",
      " |--  Alberta1: string (nullable = true)\n",
      " |--  Canada\tCA\tCA01\t51.0833\t-114.083\t-561990\t4\tCalgary: string (nullable = true)\n",
      " |--  Alberta3: string (nullable = true)\n",
      " |--  Canada\tCA\tCA01\t51.0833\t-114.083\t-561990\t20190101\thttps://www.weyburnreview.com/cn-rail-and-cp-rail-exceed-grain-revenue-max-despite-drop-in-grain-shipping-1.23568755: string (nullable = true)\n",
      "\n"
     ]
    }
   ],
   "source": [
    "from pyspark.sql import SparkSession\n",
    "spark1 = SparkSession.builder.appName('Ops').getOrCreate()\n",
    "df = spark1.read.csv('s3a://<bucket name>/gdelt-open-data/events/20190101.export.csv', inferSchema=True,header=True)\n",
    "df.printSchema()"
   ]
  },
  {
   "cell_type": "code",
   "execution_count": 2,
   "metadata": {},
   "outputs": [
    {
     "name": "stdout",
     "output_type": "stream",
     "text": [
      "Count: 1961\n",
      "root\n",
      "|-- family_name: string\n",
      "|-- name: string\n",
      "|-- links: array\n",
      "|    |-- element: struct\n",
      "|    |    |-- note: string\n",
      "|    |    |-- url: string\n",
      "|-- gender: string\n",
      "|-- image: string\n",
      "|-- identifiers: array\n",
      "|    |-- element: struct\n",
      "|    |    |-- scheme: string\n",
      "|    |    |-- identifier: string\n",
      "|-- other_names: array\n",
      "|    |-- element: struct\n",
      "|    |    |-- lang: string\n",
      "|    |    |-- note: string\n",
      "|    |    |-- name: string\n",
      "|-- sort_name: string\n",
      "|-- images: array\n",
      "|    |-- element: struct\n",
      "|    |    |-- url: string\n",
      "|-- given_name: string\n",
      "|-- birth_date: string\n",
      "|-- id: string\n",
      "|-- contact_details: array\n",
      "|    |-- element: struct\n",
      "|    |    |-- type: string\n",
      "|    |    |-- value: string\n",
      "|-- death_date: string\n",
      "\n"
     ]
    }
   ],
   "source": [
    "import sys\n",
    "from awsglue.transforms import *\n",
    "from awsglue.utils import getResolvedOptions\n",
    "from pyspark.context import SparkContext\n",
    "from awsglue.context import GlueContext\n",
    "from awsglue.job import Job\n",
    "\n",
    "glueContext = GlueContext(SparkContext.getOrCreate())\n",
    "\n",
    "persons = glueContext.create_dynamic_frame.from_catalog(\n",
    "             database=\"uslegislators_gluecrawler\",\n",
    "             table_name=\"persons\")\n",
    "print(\"Count: \" + str(persons.count()))\n",
    "persons.printSchema()"
   ]
  },
  {
   "cell_type": "code",
   "execution_count": 6,
   "metadata": {},
   "outputs": [
    {
     "name": "stdout",
     "output_type": "stream",
     "text": [
      "Count: 13\n",
      "root\n",
      "|-- identifiers: array\n",
      "|    |-- element: struct\n",
      "|    |    |-- scheme: string\n",
      "|    |    |-- identifier: string\n",
      "|-- other_names: array\n",
      "|    |-- element: struct\n",
      "|    |    |-- lang: string\n",
      "|    |    |-- note: string\n",
      "|    |    |-- name: string\n",
      "|-- id: string\n",
      "|-- classification: string\n",
      "|-- name: string\n",
      "|-- links: array\n",
      "|    |-- element: struct\n",
      "|    |    |-- note: string\n",
      "|    |    |-- url: string\n",
      "|-- image: string\n",
      "|-- seats: int\n",
      "|-- type: string\n",
      "\n"
     ]
    }
   ],
   "source": [
    "orgs = glueContext.create_dynamic_frame.from_catalog(\n",
    "           database=\"uslegislators_gluecrawler\",\n",
    "           table_name=\"organization\")\n",
    "print(\"Count: \" + str(orgs.count()))\n",
    "orgs.printSchema()"
   ]
  },
  {
   "cell_type": "code",
   "execution_count": null,
   "metadata": {},
   "outputs": [],
   "source": []
  }
 ],
 "metadata": {
  "kernelspec": {
   "display_name": "Python 3",
   "language": "python",
   "name": "python3"
  },
  "language_info": {
   "codemirror_mode": {
    "name": "ipython",
    "version": 3
   },
   "file_extension": ".py",
   "mimetype": "text/x-python",
   "name": "python",
   "nbconvert_exporter": "python",
   "pygments_lexer": "ipython3",
   "version": "3.7.6"
  }
 },
 "nbformat": 4,
 "nbformat_minor": 4
}
